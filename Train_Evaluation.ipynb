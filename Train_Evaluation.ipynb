{
 "cells": [
  {
   "cell_type": "markdown",
   "metadata": {},
   "source": [
    "# Training and evaluation pipeline\n",
    "In this notebook we try the best feature sets based on previous feature selection and dimensonality reduction analysis in different classification models. We include cross validation and evaluate the models on different metrics."
   ]
  },
  {
   "cell_type": "code",
   "execution_count": null,
   "metadata": {
    "vscode": {
     "languageId": "plaintext"
    }
   },
   "outputs": [],
   "source": [
    "# evaluar varios clasificadores con diferentes subsets de características y métodos para reducir la dimensionalidad"
   ]
  }
 ],
 "metadata": {
  "language_info": {
   "name": "python"
  }
 },
 "nbformat": 4,
 "nbformat_minor": 2
}
